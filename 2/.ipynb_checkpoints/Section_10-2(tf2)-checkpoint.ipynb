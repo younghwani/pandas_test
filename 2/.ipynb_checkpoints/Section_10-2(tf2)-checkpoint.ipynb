{
 "cells": [
  {
   "cell_type": "code",
   "execution_count": 1,
   "metadata": {},
   "outputs": [],
   "source": [
    "import tensorflow as tf\n",
    "import numpy as np\n",
    "import random\n",
    "import pandas as pd"
   ]
  },
  {
   "cell_type": "code",
   "execution_count": 2,
   "metadata": {},
   "outputs": [],
   "source": [
    "random.seed(777)\n",
    "learning_rate = 0.001\n",
    "batch_size = 100\n",
    "training_epochs = 15\n",
    "nb_classes = 10\n",
    "drop_rate = 0.3"
   ]
  },
  {
   "cell_type": "code",
   "execution_count": 3,
   "metadata": {},
   "outputs": [],
   "source": [
    "(x_train, y_train), (x_test, y_test) = tf.keras.datasets.mnist.load_data()"
   ]
  },
  {
   "cell_type": "code",
   "execution_count": 4,
   "metadata": {},
   "outputs": [
    {
     "name": "stdout",
     "output_type": "stream",
     "text": [
      "(60000, 28, 28) (60000,)\n"
     ]
    }
   ],
   "source": [
    "print(x_train.shape, y_train.shape)"
   ]
  },
  {
   "cell_type": "code",
   "execution_count": 5,
   "metadata": {},
   "outputs": [
    {
     "name": "stdout",
     "output_type": "stream",
     "text": [
      "(60000, 784) (10000, 784)\n"
     ]
    }
   ],
   "source": [
    "x_train = x_train.reshape(x_train.shape[0], 28*28)\n",
    "x_test = x_test.reshape(x_test.shape[0], 28*28)\n",
    "print(x_train.shape, x_test.shape)"
   ]
  },
  {
   "cell_type": "code",
   "execution_count": 6,
   "metadata": {},
   "outputs": [],
   "source": [
    "y_train = tf.keras.utils.to_categorical(y_train, nb_classes)\n",
    "y_test = pd.get_dummies(y_test)"
   ]
  },
  {
   "cell_type": "code",
   "execution_count": 7,
   "metadata": {},
   "outputs": [
    {
     "name": "stdout",
     "output_type": "stream",
     "text": [
      "Model: \"model\"\n",
      "_________________________________________________________________\n",
      "Layer (type)                 Output Shape              Param #   \n",
      "=================================================================\n",
      "input_1 (InputLayer)         [(None, 784)]             0         \n",
      "_________________________________________________________________\n",
      "dense (Dense)                (None, 512)               401920    \n",
      "_________________________________________________________________\n",
      "batch_normalization (BatchNo (None, 512)               2048      \n",
      "_________________________________________________________________\n",
      "activation (Activation)      (None, 512)               0         \n",
      "_________________________________________________________________\n",
      "dropout (Dropout)            (None, 512)               0         \n",
      "_________________________________________________________________\n",
      "dense_1 (Dense)              (None, 512)               262656    \n",
      "_________________________________________________________________\n",
      "batch_normalization_1 (Batch (None, 512)               2048      \n",
      "_________________________________________________________________\n",
      "activation_1 (Activation)    (None, 512)               0         \n",
      "_________________________________________________________________\n",
      "dropout_1 (Dropout)          (None, 512)               0         \n",
      "_________________________________________________________________\n",
      "dense_2 (Dense)              (None, 512)               262656    \n",
      "_________________________________________________________________\n",
      "batch_normalization_2 (Batch (None, 512)               2048      \n",
      "_________________________________________________________________\n",
      "activation_2 (Activation)    (None, 512)               0         \n",
      "_________________________________________________________________\n",
      "dropout_2 (Dropout)          (None, 512)               0         \n",
      "_________________________________________________________________\n",
      "dense_3 (Dense)              (None, 512)               262656    \n",
      "_________________________________________________________________\n",
      "batch_normalization_3 (Batch (None, 512)               2048      \n",
      "_________________________________________________________________\n",
      "activation_3 (Activation)    (None, 512)               0         \n",
      "_________________________________________________________________\n",
      "dropout_3 (Dropout)          (None, 512)               0         \n",
      "_________________________________________________________________\n",
      "dense_4 (Dense)              (None, 10)                5130      \n",
      "=================================================================\n",
      "Total params: 1,203,210\n",
      "Trainable params: 1,199,114\n",
      "Non-trainable params: 4,096\n",
      "_________________________________________________________________\n"
     ]
    }
   ],
   "source": [
    "X = tf.keras.layers.Input(shape=[784])\n",
    "\n",
    "H = tf.keras.layers.Dense(512, kernel_initializer='glorot_normal')(X)\n",
    "H = tf.keras.layers.BatchNormalization()(H)\n",
    "H = tf.keras.layers.Activation('relu')(H)\n",
    "H = tf.keras.layers.Dropout(drop_rate)(H)\n",
    "\n",
    "H = tf.keras.layers.Dense(512, kernel_initializer='glorot_normal')(H)\n",
    "H = tf.keras.layers.BatchNormalization()(H)\n",
    "H = tf.keras.layers.Activation('relu')(H)\n",
    "H = tf.keras.layers.Dropout(drop_rate)(H)\n",
    "\n",
    "H = tf.keras.layers.Dense(512, kernel_initializer='glorot_normal')(H)\n",
    "H = tf.keras.layers.BatchNormalization()(H)\n",
    "H = tf.keras.layers.Activation('relu')(H)\n",
    "H = tf.keras.layers.Dropout(drop_rate)(H)\n",
    "\n",
    "H = tf.keras.layers.Dense(512, kernel_initializer='glorot_normal')(H)\n",
    "H = tf.keras.layers.BatchNormalization()(H)\n",
    "H = tf.keras.layers.Activation('relu')(H)\n",
    "H = tf.keras.layers.Dropout(drop_rate)(H)\n",
    "\n",
    "Y = tf.keras.layers.Dense(nb_classes, activation='softmax')(H)\n",
    "\n",
    "model = tf.keras.models.Model(X, Y)\n",
    "model.compile(loss='categorical_crossentropy', \n",
    "             optimizer=tf.keras.optimizers.Adam(lr=learning_rate),\n",
    "             metrics='accuracy')\n",
    "model.summary()"
   ]
  },
  {
   "cell_type": "code",
   "execution_count": 8,
   "metadata": {},
   "outputs": [
    {
     "name": "stdout",
     "output_type": "stream",
     "text": [
      "Epoch 1/15\n",
      "600/600 [==============================] - 5s 8ms/step - loss: 0.5152 - accuracy: 0.8340\n",
      "Epoch 2/15\n",
      "600/600 [==============================] - 5s 8ms/step - loss: 0.1620 - accuracy: 0.9493\n",
      "Epoch 3/15\n",
      "600/600 [==============================] - 5s 8ms/step - loss: 0.1220 - accuracy: 0.9612\n",
      "Epoch 4/15\n",
      "600/600 [==============================] - 5s 8ms/step - loss: 0.0995 - accuracy: 0.9689\n",
      "Epoch 5/15\n",
      "600/600 [==============================] - 5s 8ms/step - loss: 0.0864 - accuracy: 0.9736\n",
      "Epoch 6/15\n",
      "600/600 [==============================] - 5s 8ms/step - loss: 0.0737 - accuracy: 0.9768\n",
      "Epoch 7/15\n",
      "600/600 [==============================] - 5s 8ms/step - loss: 0.0717 - accuracy: 0.9766\n",
      "Epoch 8/15\n",
      "600/600 [==============================] - 5s 8ms/step - loss: 0.0631 - accuracy: 0.9798\n",
      "Epoch 9/15\n",
      "600/600 [==============================] - 5s 8ms/step - loss: 0.0553 - accuracy: 0.9821\n",
      "Epoch 10/15\n",
      "600/600 [==============================] - 5s 8ms/step - loss: 0.0576 - accuracy: 0.9816\n",
      "Epoch 11/15\n",
      "600/600 [==============================] - 5s 8ms/step - loss: 0.0489 - accuracy: 0.9844\n",
      "Epoch 12/15\n",
      "600/600 [==============================] - 5s 8ms/step - loss: 0.0491 - accuracy: 0.9850\n",
      "Epoch 13/15\n",
      "600/600 [==============================] - 5s 8ms/step - loss: 0.0436 - accuracy: 0.9854\n",
      "Epoch 14/15\n",
      "600/600 [==============================] - 5s 8ms/step - loss: 0.0426 - accuracy: 0.9864\n",
      "Epoch 15/15\n",
      "600/600 [==============================] - 5s 8ms/step - loss: 0.0399 - accuracy: 0.9878\n"
     ]
    },
    {
     "data": {
      "text/plain": [
       "<tensorflow.python.keras.callbacks.History at 0x7fba7e9a84f0>"
      ]
     },
     "execution_count": 8,
     "metadata": {},
     "output_type": "execute_result"
    }
   ],
   "source": [
    "model.fit(x_train, y_train, batch_size=batch_size, \n",
    "          epochs=training_epochs)"
   ]
  },
  {
   "cell_type": "code",
   "execution_count": 9,
   "metadata": {},
   "outputs": [
    {
     "name": "stdout",
     "output_type": "stream",
     "text": [
      "Index :  3757 \t Actual y :  8 \t Predicted y :  8\n",
      "Index :  7304 \t Actual y :  5 \t Predicted y :  5\n",
      "Index :  7300 \t Actual y :  7 \t Predicted y :  7\n",
      "Index :  6039 \t Actual y :  9 \t Predicted y :  9\n",
      "Index :  9429 \t Actual y :  3 \t Predicted y :  3\n",
      "Index :  4420 \t Actual y :  5 \t Predicted y :  5\n",
      "Index :  5507 \t Actual y :  2 \t Predicted y :  2\n",
      "Index :  8809 \t Actual y :  1 \t Predicted y :  1\n",
      "Index :  654 \t Actual y :  5 \t Predicted y :  5\n",
      "Index :  7302 \t Actual y :  8 \t Predicted y :  8\n"
     ]
    }
   ],
   "source": [
    "y_predicted = model.predict(x_test)\n",
    "for x in range(0, 10):\n",
    "    random_index = random.randint(0, x_test.shape[0]-1)\n",
    "    print('Index : ', random_index,\n",
    "         '\\t Actual y : ', np.argmax(np.array(y_test)[random_index]),\n",
    "         '\\t Predicted y : ', np.argmax(y_predicted[random_index]))"
   ]
  },
  {
   "cell_type": "code",
   "execution_count": 10,
   "metadata": {},
   "outputs": [
    {
     "name": "stdout",
     "output_type": "stream",
     "text": [
      "313/313 [==============================] - 0s 1ms/step - loss: 0.0538 - accuracy: 0.9831\n",
      "loss :  0.05377\n",
      "accuracy :  0.9831\n"
     ]
    }
   ],
   "source": [
    "evaluation = model.evaluate(x_test, y_test)\n",
    "print('loss : ', round(evaluation[0], 5))\n",
    "print('accuracy : ', round(evaluation[1], 5))"
   ]
  }
 ],
 "metadata": {
  "kernelspec": {
   "display_name": "Python 3",
   "language": "python",
   "name": "python3"
  },
  "language_info": {
   "codemirror_mode": {
    "name": "ipython",
    "version": 3
   },
   "file_extension": ".py",
   "mimetype": "text/x-python",
   "name": "python",
   "nbconvert_exporter": "python",
   "pygments_lexer": "ipython3",
   "version": "3.8.5"
  }
 },
 "nbformat": 4,
 "nbformat_minor": 4
}

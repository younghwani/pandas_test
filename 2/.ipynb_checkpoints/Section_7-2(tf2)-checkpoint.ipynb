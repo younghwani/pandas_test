{
 "cells": [
  {
   "cell_type": "code",
   "execution_count": 1,
   "metadata": {},
   "outputs": [],
   "source": [
    "import tensorflow as tf\n",
    "import numpy as np"
   ]
  },
  {
   "cell_type": "code",
   "execution_count": 2,
   "metadata": {},
   "outputs": [],
   "source": [
    "xy = np.array([[828.659973, 833.450012, 908100, 828.349976, 831.659973],\n",
    "               [823.02002, 828.070007, 1828100, 821.655029, 828.070007],\n",
    "               [819.929993, 824.400024, 1438100, 818.97998, 824.159973],\n",
    "               [816, 820.958984, 1008100, 815.48999, 819.23999],\n",
    "               [819.359985, 823, 1188100, 818.469971, 818.97998],\n",
    "               [819, 823, 1198100, 816, 820.450012],\n",
    "               [811.700012, 815.25, 1098100, 809.780029, 813.669983],\n",
    "               [809.51001, 816.659973, 1398100, 804.539978, 809.559998]])"
   ]
  },
  {
   "cell_type": "code",
   "execution_count": 3,
   "metadata": {},
   "outputs": [],
   "source": [
    "x_data = xy[:, 0:-1]\n",
    "y_data = xy[:, [-1]]"
   ]
  },
  {
   "cell_type": "code",
   "execution_count": 4,
   "metadata": {},
   "outputs": [],
   "source": [
    "tf.model = tf.keras.Sequential()\n",
    "tf.model.add(tf.keras.layers.Dense(units=1, input_dim=4))\n",
    "tf.model.add(tf.keras.layers.Activation('linear'))\n",
    "tf.model.compile(loss='mse', \n",
    "                 optimizer=tf.keras.optimizers.SGD(lr=1e-5))"
   ]
  },
  {
   "cell_type": "code",
   "execution_count": 5,
   "metadata": {},
   "outputs": [
    {
     "name": "stdout",
     "output_type": "stream",
     "text": [
      "Model: \"sequential\"\n",
      "_________________________________________________________________\n",
      "Layer (type)                 Output Shape              Param #   \n",
      "=================================================================\n",
      "dense (Dense)                (None, 1)                 5         \n",
      "_________________________________________________________________\n",
      "activation (Activation)      (None, 1)                 0         \n",
      "=================================================================\n",
      "Total params: 5\n",
      "Trainable params: 5\n",
      "Non-trainable params: 0\n",
      "_________________________________________________________________\n"
     ]
    }
   ],
   "source": [
    "tf.model.summary()"
   ]
  },
  {
   "cell_type": "code",
   "execution_count": 6,
   "metadata": {},
   "outputs": [
    {
     "name": "stdout",
     "output_type": "stream",
     "text": [
      "Epoch 1/100\n",
      "1/1 [==============================] - 0s 183ms/step - loss: 518645184.0000\n",
      "Epoch 2/100\n",
      "1/1 [==============================] - 0s 1ms/step - loss: 569810629007257156714496.0000\n",
      "Epoch 3/100\n",
      "1/1 [==============================] - 0s 1ms/step - loss: inf\n",
      "Epoch 4/100\n",
      "1/1 [==============================] - 0s 1ms/step - loss: inf\n",
      "Epoch 5/100\n",
      "1/1 [==============================] - 0s 1ms/step - loss: inf\n",
      "Epoch 6/100\n",
      "1/1 [==============================] - 0s 1ms/step - loss: inf\n",
      "Epoch 7/100\n",
      "1/1 [==============================] - 0s 1ms/step - loss: nan\n",
      "Epoch 8/100\n",
      "1/1 [==============================] - 0s 2ms/step - loss: nan\n",
      "Epoch 9/100\n",
      "1/1 [==============================] - 0s 1ms/step - loss: nan\n",
      "Epoch 10/100\n",
      "1/1 [==============================] - 0s 1ms/step - loss: nan\n",
      "Epoch 11/100\n",
      "1/1 [==============================] - 0s 1ms/step - loss: nan\n",
      "Epoch 12/100\n",
      "1/1 [==============================] - 0s 1ms/step - loss: nan\n",
      "Epoch 13/100\n",
      "1/1 [==============================] - 0s 1ms/step - loss: nan\n",
      "Epoch 14/100\n",
      "1/1 [==============================] - 0s 1ms/step - loss: nan\n",
      "Epoch 15/100\n",
      "1/1 [==============================] - 0s 2ms/step - loss: nan\n",
      "Epoch 16/100\n",
      "1/1 [==============================] - 0s 2ms/step - loss: nan\n",
      "Epoch 17/100\n",
      "1/1 [==============================] - 0s 2ms/step - loss: nan\n",
      "Epoch 18/100\n",
      "1/1 [==============================] - 0s 2ms/step - loss: nan\n",
      "Epoch 19/100\n",
      "1/1 [==============================] - 0s 1ms/step - loss: nan\n",
      "Epoch 20/100\n",
      "1/1 [==============================] - 0s 1ms/step - loss: nan\n",
      "Epoch 21/100\n",
      "1/1 [==============================] - 0s 1ms/step - loss: nan\n",
      "Epoch 22/100\n",
      "1/1 [==============================] - 0s 2ms/step - loss: nan\n",
      "Epoch 23/100\n",
      "1/1 [==============================] - 0s 2ms/step - loss: nan\n",
      "Epoch 24/100\n",
      "1/1 [==============================] - 0s 2ms/step - loss: nan\n",
      "Epoch 25/100\n",
      "1/1 [==============================] - 0s 2ms/step - loss: nan\n",
      "Epoch 26/100\n",
      "1/1 [==============================] - 0s 1ms/step - loss: nan\n",
      "Epoch 27/100\n",
      "1/1 [==============================] - 0s 1ms/step - loss: nan\n",
      "Epoch 28/100\n",
      "1/1 [==============================] - 0s 2ms/step - loss: nan\n",
      "Epoch 29/100\n",
      "1/1 [==============================] - 0s 2ms/step - loss: nan\n",
      "Epoch 30/100\n",
      "1/1 [==============================] - 0s 2ms/step - loss: nan\n",
      "Epoch 31/100\n",
      "1/1 [==============================] - 0s 2ms/step - loss: nan\n",
      "Epoch 32/100\n",
      "1/1 [==============================] - 0s 2ms/step - loss: nan\n",
      "Epoch 33/100\n",
      "1/1 [==============================] - 0s 2ms/step - loss: nan\n",
      "Epoch 34/100\n",
      "1/1 [==============================] - 0s 1ms/step - loss: nan\n",
      "Epoch 35/100\n",
      "1/1 [==============================] - 0s 2ms/step - loss: nan\n",
      "Epoch 36/100\n",
      "1/1 [==============================] - 0s 2ms/step - loss: nan\n",
      "Epoch 37/100\n",
      "1/1 [==============================] - 0s 3ms/step - loss: nan\n",
      "Epoch 38/100\n",
      "1/1 [==============================] - 0s 2ms/step - loss: nan\n",
      "Epoch 39/100\n",
      "1/1 [==============================] - 0s 1ms/step - loss: nan\n",
      "Epoch 40/100\n",
      "1/1 [==============================] - 0s 2ms/step - loss: nan\n",
      "Epoch 41/100\n",
      "1/1 [==============================] - 0s 2ms/step - loss: nan\n",
      "Epoch 42/100\n",
      "1/1 [==============================] - 0s 3ms/step - loss: nan\n",
      "Epoch 43/100\n",
      "1/1 [==============================] - 0s 2ms/step - loss: nan\n",
      "Epoch 44/100\n",
      "1/1 [==============================] - 0s 2ms/step - loss: nan\n",
      "Epoch 45/100\n",
      "1/1 [==============================] - 0s 1ms/step - loss: nan\n",
      "Epoch 46/100\n",
      "1/1 [==============================] - 0s 2ms/step - loss: nan\n",
      "Epoch 47/100\n",
      "1/1 [==============================] - 0s 3ms/step - loss: nan\n",
      "Epoch 48/100\n",
      "1/1 [==============================] - 0s 2ms/step - loss: nan\n",
      "Epoch 49/100\n",
      "1/1 [==============================] - 0s 2ms/step - loss: nan\n",
      "Epoch 50/100\n",
      "1/1 [==============================] - 0s 2ms/step - loss: nan\n",
      "Epoch 51/100\n",
      "1/1 [==============================] - 0s 2ms/step - loss: nan\n",
      "Epoch 52/100\n",
      "1/1 [==============================] - 0s 2ms/step - loss: nan\n",
      "Epoch 53/100\n",
      "1/1 [==============================] - 0s 1ms/step - loss: nan\n",
      "Epoch 54/100\n",
      "1/1 [==============================] - 0s 2ms/step - loss: nan\n",
      "Epoch 55/100\n",
      "1/1 [==============================] - 0s 2ms/step - loss: nan\n",
      "Epoch 56/100\n",
      "1/1 [==============================] - 0s 2ms/step - loss: nan\n",
      "Epoch 57/100\n",
      "1/1 [==============================] - 0s 4ms/step - loss: nan\n",
      "Epoch 58/100\n",
      "1/1 [==============================] - 0s 2ms/step - loss: nan\n",
      "Epoch 59/100\n",
      "1/1 [==============================] - 0s 1ms/step - loss: nan\n",
      "Epoch 60/100\n",
      "1/1 [==============================] - 0s 1ms/step - loss: nan\n",
      "Epoch 61/100\n",
      "1/1 [==============================] - 0s 1ms/step - loss: nan\n",
      "Epoch 62/100\n",
      "1/1 [==============================] - 0s 2ms/step - loss: nan\n",
      "Epoch 63/100\n",
      "1/1 [==============================] - 0s 2ms/step - loss: nan\n",
      "Epoch 64/100\n",
      "1/1 [==============================] - 0s 2ms/step - loss: nan\n",
      "Epoch 65/100\n",
      "1/1 [==============================] - 0s 3ms/step - loss: nan\n",
      "Epoch 66/100\n",
      "1/1 [==============================] - 0s 2ms/step - loss: nan\n",
      "Epoch 67/100\n",
      "1/1 [==============================] - 0s 3ms/step - loss: nan\n",
      "Epoch 68/100\n",
      "1/1 [==============================] - 0s 2ms/step - loss: nan\n",
      "Epoch 69/100\n",
      "1/1 [==============================] - 0s 1ms/step - loss: nan\n",
      "Epoch 70/100\n",
      "1/1 [==============================] - 0s 1ms/step - loss: nan\n",
      "Epoch 71/100\n",
      "1/1 [==============================] - 0s 1ms/step - loss: nan\n",
      "Epoch 72/100\n",
      "1/1 [==============================] - 0s 1ms/step - loss: nan\n",
      "Epoch 73/100\n",
      "1/1 [==============================] - 0s 1ms/step - loss: nan\n",
      "Epoch 74/100\n",
      "1/1 [==============================] - 0s 3ms/step - loss: nan\n",
      "Epoch 75/100\n",
      "1/1 [==============================] - 0s 2ms/step - loss: nan\n",
      "Epoch 76/100\n",
      "1/1 [==============================] - 0s 1ms/step - loss: nan\n",
      "Epoch 77/100\n",
      "1/1 [==============================] - 0s 2ms/step - loss: nan\n",
      "Epoch 78/100\n",
      "1/1 [==============================] - 0s 2ms/step - loss: nan\n",
      "Epoch 79/100\n",
      "1/1 [==============================] - 0s 2ms/step - loss: nan\n",
      "Epoch 80/100\n",
      "1/1 [==============================] - 0s 2ms/step - loss: nan\n",
      "Epoch 81/100\n",
      "1/1 [==============================] - 0s 2ms/step - loss: nan\n",
      "Epoch 82/100\n",
      "1/1 [==============================] - 0s 2ms/step - loss: nan\n",
      "Epoch 83/100\n",
      "1/1 [==============================] - 0s 2ms/step - loss: nan\n",
      "Epoch 84/100\n",
      "1/1 [==============================] - 0s 1ms/step - loss: nan\n",
      "Epoch 85/100\n",
      "1/1 [==============================] - 0s 2ms/step - loss: nan\n",
      "Epoch 86/100\n",
      "1/1 [==============================] - 0s 3ms/step - loss: nan\n",
      "Epoch 87/100\n",
      "1/1 [==============================] - 0s 3ms/step - loss: nan\n",
      "Epoch 88/100\n",
      "1/1 [==============================] - 0s 3ms/step - loss: nan\n",
      "Epoch 89/100\n",
      "1/1 [==============================] - 0s 4ms/step - loss: nan\n",
      "Epoch 90/100\n",
      "1/1 [==============================] - 0s 4ms/step - loss: nan\n",
      "Epoch 91/100\n",
      "1/1 [==============================] - 0s 3ms/step - loss: nan\n",
      "Epoch 92/100\n",
      "1/1 [==============================] - 0s 4ms/step - loss: nan\n",
      "Epoch 93/100\n",
      "1/1 [==============================] - 0s 8ms/step - loss: nan\n",
      "Epoch 94/100\n",
      "1/1 [==============================] - 0s 4ms/step - loss: nan\n",
      "Epoch 95/100\n",
      "1/1 [==============================] - 0s 4ms/step - loss: nan\n",
      "Epoch 96/100\n",
      "1/1 [==============================] - 0s 4ms/step - loss: nan\n",
      "Epoch 97/100\n",
      "1/1 [==============================] - 0s 3ms/step - loss: nan\n",
      "Epoch 98/100\n",
      "1/1 [==============================] - 0s 6ms/step - loss: nan\n",
      "Epoch 99/100\n",
      "1/1 [==============================] - 0s 5ms/step - loss: nan\n",
      "Epoch 100/100\n",
      "1/1 [==============================] - 0s 5ms/step - loss: nan\n"
     ]
    }
   ],
   "source": [
    "history = tf.model.fit(x_data, y_data, epochs=100)"
   ]
  },
  {
   "cell_type": "code",
   "execution_count": 7,
   "metadata": {},
   "outputs": [
    {
     "name": "stdout",
     "output_type": "stream",
     "text": [
      "[518645184.0, 5.6981062900725716e+23, inf, inf, inf, inf, nan, nan, nan, nan, nan, nan, nan, nan, nan, nan, nan, nan, nan, nan, nan, nan, nan, nan, nan, nan, nan, nan, nan, nan, nan, nan, nan, nan, nan, nan, nan, nan, nan, nan, nan, nan, nan, nan, nan, nan, nan, nan, nan, nan, nan, nan, nan, nan, nan, nan, nan, nan, nan, nan, nan, nan, nan, nan, nan, nan, nan, nan, nan, nan, nan, nan, nan, nan, nan, nan, nan, nan, nan, nan, nan, nan, nan, nan, nan, nan, nan, nan, nan, nan, nan, nan, nan, nan, nan, nan, nan, nan, nan, nan]\n"
     ]
    }
   ],
   "source": [
    "print(history.history['loss']) # loss == nan"
   ]
  },
  {
   "cell_type": "code",
   "execution_count": 8,
   "metadata": {},
   "outputs": [],
   "source": [
    "def min_max_scalar(data):\n",
    "    numerator = data - np.min(data, 0)\n",
    "    denominator = np.max(data, 0) - np.min(data, 0)\n",
    "    return numerator / (denominator + 1e-7)"
   ]
  },
  {
   "cell_type": "code",
   "execution_count": 9,
   "metadata": {},
   "outputs": [
    {
     "name": "stdout",
     "output_type": "stream",
     "text": [
      "[[8.2900e+02 8.3300e+02 9.0810e+05 8.2800e+02 8.3200e+02]\n",
      " [8.2300e+02 8.2800e+02 1.8281e+06 8.2200e+02 8.2800e+02]\n",
      " [8.2000e+02 8.2400e+02 1.4381e+06 8.1900e+02 8.2400e+02]\n",
      " [8.1600e+02 8.2100e+02 1.0081e+06 8.1500e+02 8.1900e+02]\n",
      " [8.1900e+02 8.2300e+02 1.1881e+06 8.1800e+02 8.1900e+02]\n",
      " [8.1900e+02 8.2300e+02 1.1981e+06 8.1600e+02 8.2000e+02]\n",
      " [8.1200e+02 8.1500e+02 1.0981e+06 8.1000e+02 8.1400e+02]\n",
      " [8.1000e+02 8.1700e+02 1.3981e+06 8.0500e+02 8.1000e+02]]\n",
      "--------------------------------------------------------------\n",
      "[[0.99999999 0.99999999 0.         1.         1.        ]\n",
      " [0.70548491 0.70439552 1.         0.71881782 0.83755791]\n",
      " [0.54412549 0.50274824 0.57608696 0.606468   0.6606331 ]\n",
      " [0.33890353 0.31368023 0.10869565 0.45989134 0.43800918]\n",
      " [0.51436    0.42582389 0.30434783 0.58504805 0.42624401]\n",
      " [0.49556179 0.42582389 0.31521739 0.48131134 0.49276137]\n",
      " [0.11436064 0.         0.20652174 0.22007776 0.18597238]\n",
      " [0.         0.07747099 0.5326087  0.         0.        ]]\n"
     ]
    }
   ],
   "source": [
    "print(np.round(xy))\n",
    "print('--------------------------------------------------------------')\n",
    "xy = min_max_scalar(xy)\n",
    "# 가장 큰 값 : 1, 가장 작은 값 : 0, 나머지는 그 사이의 값으로 비례해서 채워짐.\n",
    "print(xy)"
   ]
  },
  {
   "cell_type": "code",
   "execution_count": 10,
   "metadata": {},
   "outputs": [
    {
     "name": "stdout",
     "output_type": "stream",
     "text": [
      "(8, 4) (8, 1)\n"
     ]
    }
   ],
   "source": [
    "x_data = xy[:, 0:-1]\n",
    "y_data = xy[:, [-1]]\n",
    "print(x_data.shape, y_data.shape)"
   ]
  },
  {
   "cell_type": "code",
   "execution_count": 11,
   "metadata": {},
   "outputs": [],
   "source": [
    "X = tf.keras.layers.Input(shape=[4])\n",
    "Y = tf.keras.layers.Dense(1, activation='linear')(X)\n",
    "model = tf.keras.models.Model(X, Y)\n",
    "model.compile(loss='mse',\n",
    "              optimizer=tf.keras.optimizers.SGD(lr=1e-5),\n",
    "              metrics='accuracy')"
   ]
  },
  {
   "cell_type": "code",
   "execution_count": 12,
   "metadata": {},
   "outputs": [
    {
     "name": "stdout",
     "output_type": "stream",
     "text": [
      "Model: \"model\"\n",
      "_________________________________________________________________\n",
      "Layer (type)                 Output Shape              Param #   \n",
      "=================================================================\n",
      "input_1 (InputLayer)         [(None, 4)]               0         \n",
      "_________________________________________________________________\n",
      "dense_1 (Dense)              (None, 1)                 5         \n",
      "=================================================================\n",
      "Total params: 5\n",
      "Trainable params: 5\n",
      "Non-trainable params: 0\n",
      "_________________________________________________________________\n"
     ]
    }
   ],
   "source": [
    "model.summary()"
   ]
  },
  {
   "cell_type": "code",
   "execution_count": 13,
   "metadata": {},
   "outputs": [],
   "source": [
    "history = model.fit(x_data, y_data, epochs=100, verbose=0)"
   ]
  },
  {
   "cell_type": "code",
   "execution_count": 14,
   "metadata": {},
   "outputs": [],
   "source": [
    "predictions = model.predict(x_data)"
   ]
  },
  {
   "cell_type": "code",
   "execution_count": 15,
   "metadata": {},
   "outputs": [
    {
     "name": "stdout",
     "output_type": "stream",
     "text": [
      "1/1 [==============================] - 0s 79ms/step - loss: 4.7285 - accuracy: 0.1250\n"
     ]
    }
   ],
   "source": [
    "score = model.evaluate(x_data, y_data)"
   ]
  },
  {
   "cell_type": "code",
   "execution_count": 16,
   "metadata": {},
   "outputs": [
    {
     "name": "stdout",
     "output_type": "stream",
     "text": [
      "Prediction: \n",
      " [[-2.3625753 ]\n",
      " [-2.490074  ]\n",
      " [-1.7718583 ]\n",
      " [-0.9705163 ]\n",
      " [-1.4477141 ]\n",
      " [-1.3540789 ]\n",
      " [-0.43019176]\n",
      " [-0.49500632]]\n",
      "Cost :  [4.72852897644043, 0.125]\n"
     ]
    }
   ],
   "source": [
    "print('Prediction: \\n', predictions)\n",
    "print('Cost : ', score)"
   ]
  },
  {
   "cell_type": "code",
   "execution_count": 17,
   "metadata": {},
   "outputs": [
    {
     "name": "stdout",
     "output_type": "stream",
     "text": [
      "[4.763 4.763 4.762 4.762 4.762 4.761 4.761 4.76  4.76  4.76  4.759 4.759\n",
      " 4.759 4.758 4.758 4.758 4.757 4.757 4.757 4.756 4.756 4.756 4.755 4.755\n",
      " 4.755 4.754 4.754 4.754 4.753 4.753 4.753 4.752 4.752 4.752 4.751 4.751\n",
      " 4.75  4.75  4.75  4.749 4.749 4.749 4.748 4.748 4.748 4.747 4.747 4.747\n",
      " 4.746 4.746 4.746 4.745 4.745 4.745 4.744 4.744 4.744 4.743 4.743 4.743\n",
      " 4.742 4.742 4.742 4.741 4.741 4.741 4.74  4.74  4.739 4.739 4.739 4.738\n",
      " 4.738 4.738 4.737 4.737 4.737 4.736 4.736 4.736 4.735 4.735 4.735 4.734\n",
      " 4.734 4.734 4.733 4.733 4.733 4.732 4.732 4.732 4.731 4.731 4.731 4.73\n",
      " 4.73  4.73  4.729 4.729]\n"
     ]
    }
   ],
   "source": [
    "print(np.round(history.history['loss'], 3))"
   ]
  }
 ],
 "metadata": {
  "kernelspec": {
   "display_name": "Python 3",
   "language": "python",
   "name": "python3"
  },
  "language_info": {
   "codemirror_mode": {
    "name": "ipython",
    "version": 3
   },
   "file_extension": ".py",
   "mimetype": "text/x-python",
   "name": "python",
   "nbconvert_exporter": "python",
   "pygments_lexer": "ipython3",
   "version": "3.8.5"
  }
 },
 "nbformat": 4,
 "nbformat_minor": 4
}

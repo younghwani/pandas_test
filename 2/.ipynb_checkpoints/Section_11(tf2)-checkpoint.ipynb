{
 "cells": [
  {
   "cell_type": "code",
   "execution_count": 1,
   "metadata": {},
   "outputs": [],
   "source": [
    "import tensorflow as tf\n",
    "import numpy as np\n",
    "import random\n",
    "import pandas as pd"
   ]
  },
  {
   "cell_type": "code",
   "execution_count": 2,
   "metadata": {},
   "outputs": [],
   "source": [
    "(x_train, y_train), (x_test, y_test) = tf.keras.datasets.mnist.load_data()"
   ]
  },
  {
   "cell_type": "code",
   "execution_count": 3,
   "metadata": {},
   "outputs": [
    {
     "name": "stdout",
     "output_type": "stream",
     "text": [
      "(60000, 28, 28) (10000, 28, 28)\n"
     ]
    }
   ],
   "source": [
    "x_train = x_train / 255\n",
    "x_test = x_test / 255\n",
    "print(x_train.shape, x_test.shape)"
   ]
  },
  {
   "cell_type": "code",
   "execution_count": 4,
   "metadata": {},
   "outputs": [
    {
     "name": "stdout",
     "output_type": "stream",
     "text": [
      "(60000, 28, 28, 1) (10000, 28, 28, 1)\n"
     ]
    }
   ],
   "source": [
    "x_train = x_train.reshape(x_train.shape[0], 28, 28, 1)\n",
    "x_test = x_test.reshape(x_test.shape[0], 28, 28, 1)\n",
    "print(x_train.shape, x_test.shape)"
   ]
  },
  {
   "cell_type": "code",
   "execution_count": 5,
   "metadata": {},
   "outputs": [
    {
     "name": "stdout",
     "output_type": "stream",
     "text": [
      "(60000,) (10000,)\n"
     ]
    }
   ],
   "source": [
    "print(y_train.shape, y_test.shape)"
   ]
  },
  {
   "cell_type": "code",
   "execution_count": 6,
   "metadata": {},
   "outputs": [
    {
     "name": "stdout",
     "output_type": "stream",
     "text": [
      "(60000, 10) (10000, 10)\n"
     ]
    }
   ],
   "source": [
    "y_train = pd.get_dummies(y_train)\n",
    "y_test = pd.get_dummies(y_test)\n",
    "print(y_train.shape, y_test.shape)"
   ]
  },
  {
   "cell_type": "code",
   "execution_count": 7,
   "metadata": {},
   "outputs": [],
   "source": [
    "learning_rate = 0.001\n",
    "training_epochs = 12\n",
    "batch_size = 128"
   ]
  },
  {
   "cell_type": "code",
   "execution_count": 8,
   "metadata": {},
   "outputs": [
    {
     "data": {
      "text/plain": [
       "\"\\nmodel.compile(loss='categorical_crossentropy', \\n             optimizer = tf.keras.optimizers.Adam(lr=learning_rate),\\n             metrics='accuracy')\\nmodel.summary()\\n\""
      ]
     },
     "execution_count": 8,
     "metadata": {},
     "output_type": "execute_result"
    }
   ],
   "source": [
    "def get_model():\n",
    "    X = tf.keras.layers.Input(shape=[28, 28, 1])\n",
    "    \n",
    "    H = tf.keras.layers.Conv2D(filters=16, kernel_size=3)(X)\n",
    "    H = tf.keras.layers.Activation('relu')(H)\n",
    "    H = tf.keras.layers.MaxPool2D(pool_size=2)(H)\n",
    "\n",
    "    H = tf.keras.layers.Conv2D(filters=32, kernel_size=3)(H)\n",
    "    H = tf.keras.layers.Activation('relu')(H)\n",
    "    H = tf.keras.layers.MaxPool2D(pool_size=2)(H)\n",
    "\n",
    "    H = tf.keras.layers.Flatten()(H)\n",
    "    \n",
    "    H = tf.keras.layers.Dense(100, kernel_initializer='glorot_normal')(H)\n",
    "    H = tf.keras.layers.BatchNormalization()(H)\n",
    "    H = tf.keras.layers.Activation('relu')(H)\n",
    "\n",
    "    Y = tf.keras.layers.Dense(10, kernel_initializer='glorot_normal',\n",
    "                         activation='softmax')(H)\n",
    "\n",
    "    return tf.keras.models.Model(X, Y)\n",
    "\n",
    "'''\n",
    "model.compile(loss='categorical_crossentropy', \n",
    "             optimizer = tf.keras.optimizers.Adam(lr=learning_rate),\n",
    "             metrics='accuracy')\n",
    "model.summary()\n",
    "'''"
   ]
  },
  {
   "cell_type": "code",
   "execution_count": 9,
   "metadata": {},
   "outputs": [],
   "source": [
    "model1 = get_model()\n",
    "model2 = get_model()\n",
    "model3 = get_model()\n",
    "model4 = get_model()\n",
    "model5 = get_model()"
   ]
  },
  {
   "cell_type": "code",
   "execution_count": 13,
   "metadata": {},
   "outputs": [],
   "source": [
    "inputs = tf.keras.layers.Input(shape=[28, 28, 1])\n",
    "y1 = model1(inputs)\n",
    "y2 = model2(inputs)\n",
    "y3 = model3(inputs)\n",
    "y4 = model4(inputs)\n",
    "y5 = model5(inputs)\n",
    "outputs = tf.keras.layers.average([y1, y2, y3, y4, y5])\n",
    "ensemble_model = tf.keras.models.Model(inputs, outputs)\n",
    "ensemble_model.compile(loss='categorical_crossentropy', \n",
    "                optimizer = tf.keras.optimizers.Adam(lr=learning_rate),\n",
    "                metrics='accuracy')"
   ]
  },
  {
   "cell_type": "code",
   "execution_count": 14,
   "metadata": {},
   "outputs": [
    {
     "name": "stdout",
     "output_type": "stream",
     "text": [
      "Epoch 1/12\n",
      "469/469 [==============================] - 34s 69ms/step - loss: 0.3363 - accuracy: 0.9247\n",
      "Epoch 2/12\n",
      "469/469 [==============================] - 33s 69ms/step - loss: 0.0382 - accuracy: 0.9905\n",
      "Epoch 3/12\n",
      "469/469 [==============================] - 35s 74ms/step - loss: 0.0253 - accuracy: 0.9933\n",
      "Epoch 4/12\n",
      "469/469 [==============================] - 34s 73ms/step - loss: 0.0182 - accuracy: 0.9954\n",
      "Epoch 5/12\n",
      "469/469 [==============================] - 34s 73ms/step - loss: 0.0131 - accuracy: 0.9969\n",
      "Epoch 6/12\n",
      "469/469 [==============================] - 34s 72ms/step - loss: 0.0099 - accuracy: 0.9977\n",
      "Epoch 7/12\n",
      "469/469 [==============================] - 34s 73ms/step - loss: 0.0083 - accuracy: 0.9981\n",
      "Epoch 8/12\n",
      "469/469 [==============================] - 34s 72ms/step - loss: 0.0067 - accuracy: 0.9985\n",
      "Epoch 9/12\n",
      "469/469 [==============================] - 34s 73ms/step - loss: 0.0060 - accuracy: 0.9986\n",
      "Epoch 10/12\n",
      "469/469 [==============================] - 34s 72ms/step - loss: 0.0047 - accuracy: 0.9990\n",
      "Epoch 11/12\n",
      "469/469 [==============================] - 33s 71ms/step - loss: 0.0061 - accuracy: 0.9988\n",
      "Epoch 12/12\n",
      "469/469 [==============================] - 34s 72ms/step - loss: 0.0042 - accuracy: 0.9990\n"
     ]
    },
    {
     "data": {
      "text/plain": [
       "<tensorflow.python.keras.callbacks.History at 0x7fc20a9ff340>"
      ]
     },
     "execution_count": 14,
     "metadata": {},
     "output_type": "execute_result"
    }
   ],
   "source": [
    "ensemble_model.fit(x_train, y_train, batch_size=batch_size,\n",
    "         epochs=training_epochs)"
   ]
  },
  {
   "cell_type": "code",
   "execution_count": 15,
   "metadata": {},
   "outputs": [
    {
     "name": "stdout",
     "output_type": "stream",
     "text": [
      "Index :  626 \tActual :  7 \tPredicted y :  7\n",
      "Index :  7695 \tActual :  7 \tPredicted y :  7\n",
      "Index :  2435 \tActual :  0 \tPredicted y :  0\n",
      "Index :  8631 \tActual :  7 \tPredicted y :  7\n",
      "Index :  2543 \tActual :  8 \tPredicted y :  8\n",
      "Index :  1726 \tActual :  0 \tPredicted y :  0\n",
      "Index :  4064 \tActual :  7 \tPredicted y :  7\n",
      "Index :  3171 \tActual :  5 \tPredicted y :  5\n",
      "Index :  2782 \tActual :  6 \tPredicted y :  6\n",
      "Index :  7704 \tActual :  4 \tPredicted y :  4\n"
     ]
    }
   ],
   "source": [
    "y_predicted = ensemble_model.predict(x_test)\n",
    "for x in range(0, 10):\n",
    "    random_index = random.randint(0, x_test.shape[0]-1)\n",
    "    print('Index : ', random_index,\n",
    "         '\\tActual : ', np.argmax(np.array(y_test)[random_index]),\n",
    "         '\\tPredicted y : ', np.argmax(y_predicted[random_index]))"
   ]
  },
  {
   "cell_type": "code",
   "execution_count": 16,
   "metadata": {},
   "outputs": [
    {
     "name": "stdout",
     "output_type": "stream",
     "text": [
      "313/313 [==============================] - 2s 4ms/step - loss: 0.0219 - accuracy: 0.9929\n",
      "Loss :  0.02195\n",
      "Accuracy :  0.9929\n"
     ]
    }
   ],
   "source": [
    "evaluation = ensemble_model.evaluate(x_test, y_test)\n",
    "print('Loss : ', round(evaluation[0], 5))\n",
    "print('Accuracy : ', round(evaluation[1], 5))"
   ]
  }
 ],
 "metadata": {
  "kernelspec": {
   "display_name": "Python 3",
   "language": "python",
   "name": "python3"
  },
  "language_info": {
   "codemirror_mode": {
    "name": "ipython",
    "version": 3
   },
   "file_extension": ".py",
   "mimetype": "text/x-python",
   "name": "python",
   "nbconvert_exporter": "python",
   "pygments_lexer": "ipython3",
   "version": "3.8.5"
  }
 },
 "nbformat": 4,
 "nbformat_minor": 4
}

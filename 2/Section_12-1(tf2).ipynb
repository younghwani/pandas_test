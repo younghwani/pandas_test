{
 "cells": [
  {
   "cell_type": "code",
   "execution_count": 1,
   "metadata": {},
   "outputs": [],
   "source": [
    "import tensorflow as tf\n",
    "import numpy as np"
   ]
  },
  {
   "cell_type": "code",
   "execution_count": 2,
   "metadata": {},
   "outputs": [],
   "source": [
    "idx2char = ['h', 'i', 'e', 'l', 'o']"
   ]
  },
  {
   "cell_type": "code",
   "execution_count": 3,
   "metadata": {},
   "outputs": [],
   "source": [
    "# ihello\n",
    "y_data = [[1, 0, 2, 3, 3, 4]] "
   ]
  },
  {
   "cell_type": "code",
   "execution_count": 4,
   "metadata": {},
   "outputs": [],
   "source": [
    "num_classes = 5\n",
    "input_dim = 5\n",
    "sequence_length = 6 # ihello\n",
    "learning_rate = 0.1"
   ]
  },
  {
   "cell_type": "code",
   "execution_count": 5,
   "metadata": {},
   "outputs": [],
   "source": [
    "x_one_hot = np.array([[[1, 0, 0, 0, 0],    # h 0\n",
    "                       [0, 1, 0, 0, 0],    # i 1\n",
    "                       [1, 0, 0, 0, 0],    # h 0\n",
    "                       [0, 0, 1, 0, 0],    # e 2\n",
    "                       [0, 0, 0, 1, 0],    # l 3\n",
    "                       [0, 0, 0, 1, 0]]],  # l 3\n",
    "                     dtype=np.float32)"
   ]
  },
  {
   "cell_type": "code",
   "execution_count": 6,
   "metadata": {},
   "outputs": [],
   "source": [
    "y_one_hot = tf.keras.utils.to_categorical(y_data, \n",
    "                                          num_classes=num_classes)"
   ]
  },
  {
   "cell_type": "code",
   "execution_count": 7,
   "metadata": {},
   "outputs": [
    {
     "name": "stdout",
     "output_type": "stream",
     "text": [
      "(1, 6, 5) (1, 6, 5)\n"
     ]
    }
   ],
   "source": [
    "print(x_one_hot.shape, y_one_hot.shape)"
   ]
  },
  {
   "cell_type": "code",
   "execution_count": 8,
   "metadata": {},
   "outputs": [],
   "source": [
    "tf.model = tf.keras.Sequential()"
   ]
  },
  {
   "cell_type": "code",
   "execution_count": 9,
   "metadata": {},
   "outputs": [],
   "source": [
    "cell = tf.keras.layers.LSTMCell(units=num_classes, \n",
    "                                input_dim=(sequence_length, input_dim))"
   ]
  },
  {
   "cell_type": "code",
   "execution_count": 10,
   "metadata": {},
   "outputs": [],
   "source": [
    "tf.model.add(tf.keras.layers.RNN(cell=cell, return_sequences=True))"
   ]
  },
  {
   "cell_type": "code",
   "execution_count": 11,
   "metadata": {},
   "outputs": [
    {
     "data": {
      "text/plain": [
       "'\\ntf.model.add(tf.keras.layers.LSTM(units=num_classes,\\n                            input_shape=(sequence_length, input_dim),\\n                            return_sequences=True))\\n'"
      ]
     },
     "execution_count": 11,
     "metadata": {},
     "output_type": "execute_result"
    }
   ],
   "source": [
    "'''\n",
    "tf.model.add(tf.keras.layers.LSTM(units=num_classes,\n",
    "                            input_shape=(sequence_length, input_dim),\n",
    "                            return_sequences=True))\n",
    "'''"
   ]
  },
  {
   "cell_type": "code",
   "execution_count": 12,
   "metadata": {},
   "outputs": [],
   "source": [
    "tf.model.add(tf.keras.layers.TimeDistributed(tf.keras.layers.Dense(\n",
    "                    units=num_classes, activation='softmax')))"
   ]
  },
  {
   "cell_type": "code",
   "execution_count": 13,
   "metadata": {},
   "outputs": [],
   "source": [
    "tf.model.compile(loss='categorical_crossentropy',\n",
    "                optimizer=tf.keras.optimizers.Adam(lr=learning_rate),\n",
    "                metrics='accuracy')"
   ]
  },
  {
   "cell_type": "code",
   "execution_count": 14,
   "metadata": {},
   "outputs": [
    {
     "name": "stdout",
     "output_type": "stream",
     "text": [
      "Epoch 1/50\n",
      "1/1 [==============================] - 1s 873ms/step - loss: 1.6480 - accuracy: 0.0000e+00\n",
      "Epoch 2/50\n",
      "1/1 [==============================] - 0s 4ms/step - loss: 1.5382 - accuracy: 0.3333\n",
      "Epoch 3/50\n",
      "1/1 [==============================] - 0s 4ms/step - loss: 1.4671 - accuracy: 0.3333\n",
      "Epoch 4/50\n",
      "1/1 [==============================] - 0s 4ms/step - loss: 1.4092 - accuracy: 0.3333\n",
      "Epoch 5/50\n",
      "1/1 [==============================] - 0s 4ms/step - loss: 1.3324 - accuracy: 0.3333\n",
      "Epoch 6/50\n",
      "1/1 [==============================] - 0s 4ms/step - loss: 1.2475 - accuracy: 0.3333\n",
      "Epoch 7/50\n",
      "1/1 [==============================] - 0s 5ms/step - loss: 1.1404 - accuracy: 0.5000\n",
      "Epoch 8/50\n",
      "1/1 [==============================] - 0s 5ms/step - loss: 1.0176 - accuracy: 0.6667\n",
      "Epoch 9/50\n",
      "1/1 [==============================] - 0s 4ms/step - loss: 0.9104 - accuracy: 0.8333\n",
      "Epoch 10/50\n",
      "1/1 [==============================] - 0s 5ms/step - loss: 0.8002 - accuracy: 1.0000\n",
      "Epoch 11/50\n",
      "1/1 [==============================] - 0s 6ms/step - loss: 0.6843 - accuracy: 1.0000\n",
      "Epoch 12/50\n",
      "1/1 [==============================] - 0s 5ms/step - loss: 0.5793 - accuracy: 1.0000\n",
      "Epoch 13/50\n",
      "1/1 [==============================] - 0s 6ms/step - loss: 0.4875 - accuracy: 1.0000\n",
      "Epoch 14/50\n",
      "1/1 [==============================] - 0s 5ms/step - loss: 0.4025 - accuracy: 1.0000\n",
      "Epoch 15/50\n",
      "1/1 [==============================] - 0s 5ms/step - loss: 0.3333 - accuracy: 1.0000\n",
      "Epoch 16/50\n",
      "1/1 [==============================] - 0s 5ms/step - loss: 0.2779 - accuracy: 1.0000\n",
      "Epoch 17/50\n",
      "1/1 [==============================] - 0s 5ms/step - loss: 0.2276 - accuracy: 1.0000\n",
      "Epoch 18/50\n",
      "1/1 [==============================] - 0s 5ms/step - loss: 0.1874 - accuracy: 1.0000\n",
      "Epoch 19/50\n",
      "1/1 [==============================] - 0s 6ms/step - loss: 0.1585 - accuracy: 1.0000\n",
      "Epoch 20/50\n",
      "1/1 [==============================] - 0s 5ms/step - loss: 0.1322 - accuracy: 1.0000\n",
      "Epoch 21/50\n",
      "1/1 [==============================] - 0s 5ms/step - loss: 0.1076 - accuracy: 1.0000\n",
      "Epoch 22/50\n",
      "1/1 [==============================] - 0s 5ms/step - loss: 0.0896 - accuracy: 1.0000\n",
      "Epoch 23/50\n",
      "1/1 [==============================] - 0s 5ms/step - loss: 0.0767 - accuracy: 1.0000\n",
      "Epoch 24/50\n",
      "1/1 [==============================] - 0s 4ms/step - loss: 0.0648 - accuracy: 1.0000\n",
      "Epoch 25/50\n",
      "1/1 [==============================] - 0s 4ms/step - loss: 0.0541 - accuracy: 1.0000\n",
      "Epoch 26/50\n",
      "1/1 [==============================] - 0s 5ms/step - loss: 0.0465 - accuracy: 1.0000\n",
      "Epoch 27/50\n",
      "1/1 [==============================] - 0s 4ms/step - loss: 0.0410 - accuracy: 1.0000\n",
      "Epoch 28/50\n",
      "1/1 [==============================] - 0s 5ms/step - loss: 0.0356 - accuracy: 1.0000\n",
      "Epoch 29/50\n",
      "1/1 [==============================] - 0s 4ms/step - loss: 0.0307 - accuracy: 1.0000\n",
      "Epoch 30/50\n",
      "1/1 [==============================] - 0s 4ms/step - loss: 0.0271 - accuracy: 1.0000\n",
      "Epoch 31/50\n",
      "1/1 [==============================] - 0s 5ms/step - loss: 0.0245 - accuracy: 1.0000\n",
      "Epoch 32/50\n",
      "1/1 [==============================] - 0s 4ms/step - loss: 0.0221 - accuracy: 1.0000\n",
      "Epoch 33/50\n",
      "1/1 [==============================] - 0s 4ms/step - loss: 0.0196 - accuracy: 1.0000\n",
      "Epoch 34/50\n",
      "1/1 [==============================] - 0s 5ms/step - loss: 0.0174 - accuracy: 1.0000\n",
      "Epoch 35/50\n",
      "1/1 [==============================] - 0s 4ms/step - loss: 0.0158 - accuracy: 1.0000\n",
      "Epoch 36/50\n",
      "1/1 [==============================] - 0s 4ms/step - loss: 0.0145 - accuracy: 1.0000\n",
      "Epoch 37/50\n",
      "1/1 [==============================] - 0s 4ms/step - loss: 0.0134 - accuracy: 1.0000\n",
      "Epoch 38/50\n",
      "1/1 [==============================] - 0s 4ms/step - loss: 0.0123 - accuracy: 1.0000\n",
      "Epoch 39/50\n",
      "1/1 [==============================] - 0s 5ms/step - loss: 0.0113 - accuracy: 1.0000\n",
      "Epoch 40/50\n",
      "1/1 [==============================] - 0s 4ms/step - loss: 0.0104 - accuracy: 1.0000\n",
      "Epoch 41/50\n",
      "1/1 [==============================] - 0s 4ms/step - loss: 0.0096 - accuracy: 1.0000\n",
      "Epoch 42/50\n",
      "1/1 [==============================] - 0s 4ms/step - loss: 0.0090 - accuracy: 1.0000\n",
      "Epoch 43/50\n",
      "1/1 [==============================] - 0s 5ms/step - loss: 0.0085 - accuracy: 1.0000\n",
      "Epoch 44/50\n",
      "1/1 [==============================] - 0s 4ms/step - loss: 0.0080 - accuracy: 1.0000\n",
      "Epoch 45/50\n",
      "1/1 [==============================] - 0s 4ms/step - loss: 0.0076 - accuracy: 1.0000\n",
      "Epoch 46/50\n",
      "1/1 [==============================] - 0s 4ms/step - loss: 0.0072 - accuracy: 1.0000\n",
      "Epoch 47/50\n",
      "1/1 [==============================] - 0s 4ms/step - loss: 0.0068 - accuracy: 1.0000\n",
      "Epoch 48/50\n",
      "1/1 [==============================] - 0s 4ms/step - loss: 0.0064 - accuracy: 1.0000\n",
      "Epoch 49/50\n",
      "1/1 [==============================] - 0s 4ms/step - loss: 0.0061 - accuracy: 1.0000\n",
      "Epoch 50/50\n",
      "1/1 [==============================] - 0s 4ms/step - loss: 0.0059 - accuracy: 1.0000\n"
     ]
    },
    {
     "data": {
      "text/plain": [
       "<tensorflow.python.keras.callbacks.History at 0x7f9b36ba6190>"
      ]
     },
     "execution_count": 14,
     "metadata": {},
     "output_type": "execute_result"
    }
   ],
   "source": [
    "tf.model.fit(x_one_hot, y_one_hot, epochs=50)"
   ]
  },
  {
   "cell_type": "code",
   "execution_count": 15,
   "metadata": {},
   "outputs": [
    {
     "name": "stdout",
     "output_type": "stream",
     "text": [
      "Model: \"sequential\"\n",
      "_________________________________________________________________\n",
      "Layer (type)                 Output Shape              Param #   \n",
      "=================================================================\n",
      "rnn (RNN)                    (None, 6, 5)              220       \n",
      "_________________________________________________________________\n",
      "time_distributed (TimeDistri (None, 6, 5)              30        \n",
      "=================================================================\n",
      "Total params: 250\n",
      "Trainable params: 250\n",
      "Non-trainable params: 0\n",
      "_________________________________________________________________\n"
     ]
    }
   ],
   "source": [
    "tf.model.summary()"
   ]
  },
  {
   "cell_type": "code",
   "execution_count": 16,
   "metadata": {},
   "outputs": [
    {
     "name": "stdout",
     "output_type": "stream",
     "text": [
      "[[1.47058722e-03 9.97311234e-01 1.21559610e-03 2.58686509e-06\n",
      "  5.20188834e-08]\n",
      " [9.95905399e-01 1.48439780e-03 5.20768343e-04 1.97203644e-03\n",
      "  1.17419644e-04]\n",
      " [1.02454280e-04 1.04323670e-03 9.95659113e-01 3.18601751e-03\n",
      "  9.11677853e-06]\n",
      " [2.24772538e-03 2.18311948e-06 1.61186815e-03 9.95277047e-01\n",
      "  8.61100154e-04]\n",
      " [7.50982654e-05 7.01925629e-08 5.25387295e-04 9.91544008e-01\n",
      "  7.85540231e-03]\n",
      " [1.17527343e-04 6.78664264e-07 2.61024434e-06 9.27706901e-03\n",
      "  9.90602136e-01]]\n",
      "\tX: hihell\n",
      "\tPrediction str: ihello\n",
      "\thihello\n"
     ]
    }
   ],
   "source": [
    "predictions = tf.model.predict(x_one_hot)\n",
    "for i, prediction in enumerate(predictions):\n",
    "    print(prediction)\n",
    "    result_str = [idx2char[c] for c in np.argmax(prediction, axis=1)]\n",
    "    x_str = [idx2char[c] for c in np.argmax(x_one_hot[0], axis=1)]\n",
    "    print('\\tX:', ''.join(x_str))\n",
    "    print('\\tPrediction str:',''.join(result_str))\n",
    "    print('\\t'+x_str[0]+''.join(result_str[:]))"
   ]
  }
 ],
 "metadata": {
  "kernelspec": {
   "display_name": "Python 3",
   "language": "python",
   "name": "python3"
  },
  "language_info": {
   "codemirror_mode": {
    "name": "ipython",
    "version": 3
   },
   "file_extension": ".py",
   "mimetype": "text/x-python",
   "name": "python",
   "nbconvert_exporter": "python",
   "pygments_lexer": "ipython3",
   "version": "3.8.5"
  }
 },
 "nbformat": 4,
 "nbformat_minor": 4
}

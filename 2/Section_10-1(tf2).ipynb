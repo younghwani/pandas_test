{
 "cells": [
  {
   "cell_type": "code",
   "execution_count": 1,
   "metadata": {},
   "outputs": [],
   "source": [
    "import tensorflow as tf"
   ]
  },
  {
   "cell_type": "code",
   "execution_count": 2,
   "metadata": {},
   "outputs": [],
   "source": [
    "learning_rate = 0.001\n",
    "batch_size = 100\n",
    "training_epochs = 15\n",
    "nb_classes = 10"
   ]
  },
  {
   "cell_type": "code",
   "execution_count": 3,
   "metadata": {},
   "outputs": [],
   "source": [
    "mnist = tf.keras.datasets.mnist"
   ]
  },
  {
   "cell_type": "code",
   "execution_count": 4,
   "metadata": {},
   "outputs": [],
   "source": [
    "(x_train, y_train), (x_test, y_test) = mnist.load_data()"
   ]
  },
  {
   "cell_type": "code",
   "execution_count": 5,
   "metadata": {},
   "outputs": [
    {
     "name": "stdout",
     "output_type": "stream",
     "text": [
      "Train Shape : \n",
      " (60000, 28, 28) (60000,) \n",
      "Test Shape : \n",
      " (10000, 28, 28) (10000,)\n"
     ]
    }
   ],
   "source": [
    "print('Train Shape : \\n', x_train.shape, y_train.shape, \n",
    "      '\\nTest Shape : \\n', x_test.shape, y_test.shape)"
   ]
  },
  {
   "cell_type": "code",
   "execution_count": 6,
   "metadata": {},
   "outputs": [],
   "source": [
    "# normalizing data\n",
    "x_train, x_test = x_train / 255.0, x_test / 255.0"
   ]
  },
  {
   "cell_type": "code",
   "execution_count": 7,
   "metadata": {},
   "outputs": [
    {
     "name": "stdout",
     "output_type": "stream",
     "text": [
      "(60000, 28, 28) (10000, 28, 28)\n"
     ]
    }
   ],
   "source": [
    "print(x_train.shape, x_test.shape)"
   ]
  },
  {
   "cell_type": "code",
   "execution_count": 8,
   "metadata": {},
   "outputs": [],
   "source": [
    "# change data shape\n",
    "x_train = x_train.reshape(x_train.shape[0], \n",
    "                          x_train.shape[1]*x_train.shape[1])\n",
    "x_test = x_test.reshape(x_test.shape[0], \n",
    "                          x_test.shape[1]*x_test.shape[1])"
   ]
  },
  {
   "cell_type": "code",
   "execution_count": 9,
   "metadata": {},
   "outputs": [
    {
     "name": "stdout",
     "output_type": "stream",
     "text": [
      "(60000, 784) (10000, 784)\n"
     ]
    }
   ],
   "source": [
    "print(x_train.shape, x_test.shape)"
   ]
  },
  {
   "cell_type": "code",
   "execution_count": 10,
   "metadata": {},
   "outputs": [],
   "source": [
    "y_train = tf.keras.utils.to_categorical(y_train, 10)\n",
    "y_test = tf.keras.utils.to_categorical(y_test, 10)"
   ]
  },
  {
   "cell_type": "code",
   "execution_count": 11,
   "metadata": {},
   "outputs": [],
   "source": [
    "X = tf.keras.layers.Input(shape=[784])\n",
    "Y = tf.keras.layers.Dense(10, activation='softmax')(X)\n",
    "model = tf.keras.models.Model(X, Y)\n",
    "model.compile(loss='categorical_crossentropy', \n",
    "              optimizer=tf.keras.optimizers.Adam(learning_rate),\n",
    "             metrics='accuracy')"
   ]
  },
  {
   "cell_type": "code",
   "execution_count": 12,
   "metadata": {},
   "outputs": [
    {
     "name": "stdout",
     "output_type": "stream",
     "text": [
      "Epoch 1/15\n",
      "600/600 [==============================] - 1s 621us/step - loss: 0.9726 - accuracy: 0.7491\n",
      "Epoch 2/15\n",
      "600/600 [==============================] - 0s 604us/step - loss: 0.3609 - accuracy: 0.9036\n",
      "Epoch 3/15\n",
      "600/600 [==============================] - 0s 619us/step - loss: 0.3158 - accuracy: 0.9142\n",
      "Epoch 4/15\n",
      "600/600 [==============================] - 0s 607us/step - loss: 0.2919 - accuracy: 0.9194\n",
      "Epoch 5/15\n",
      "600/600 [==============================] - 0s 608us/step - loss: 0.2797 - accuracy: 0.9222\n",
      "Epoch 6/15\n",
      "600/600 [==============================] - 0s 610us/step - loss: 0.2779 - accuracy: 0.9213\n",
      "Epoch 7/15\n",
      "600/600 [==============================] - 0s 609us/step - loss: 0.2753 - accuracy: 0.9229\n",
      "Epoch 8/15\n",
      "600/600 [==============================] - 0s 612us/step - loss: 0.2696 - accuracy: 0.9269\n",
      "Epoch 9/15\n",
      "600/600 [==============================] - 0s 616us/step - loss: 0.2586 - accuracy: 0.9274\n",
      "Epoch 10/15\n",
      "600/600 [==============================] - 0s 612us/step - loss: 0.2554 - accuracy: 0.9278\n",
      "Epoch 11/15\n",
      "600/600 [==============================] - 0s 609us/step - loss: 0.2527 - accuracy: 0.9307\n",
      "Epoch 12/15\n",
      "600/600 [==============================] - 0s 616us/step - loss: 0.2564 - accuracy: 0.9297\n",
      "Epoch 13/15\n",
      "600/600 [==============================] - 0s 606us/step - loss: 0.2531 - accuracy: 0.9323\n",
      "Epoch 14/15\n",
      "600/600 [==============================] - 0s 613us/step - loss: 0.2436 - accuracy: 0.9326\n",
      "Epoch 15/15\n",
      "600/600 [==============================] - 0s 627us/step - loss: 0.2451 - accuracy: 0.9326\n"
     ]
    },
    {
     "data": {
      "text/plain": [
       "<tensorflow.python.keras.callbacks.History at 0x7fd0012070d0>"
      ]
     },
     "execution_count": 12,
     "metadata": {},
     "output_type": "execute_result"
    }
   ],
   "source": [
    "model.fit(x_train, y_train, batch_size=batch_size, \n",
    "          epochs=training_epochs)"
   ]
  },
  {
   "cell_type": "code",
   "execution_count": 13,
   "metadata": {},
   "outputs": [
    {
     "name": "stdout",
     "output_type": "stream",
     "text": [
      "Prediction: \n",
      " [[2.21072514e-06 7.26693965e-12 6.68174152e-06 ... 9.94829357e-01\n",
      "  1.54315185e-05 3.44920554e-04]\n",
      " [1.65109639e-04 1.34762536e-06 9.95605290e-01 ... 5.54562273e-18\n",
      "  3.11972217e-05 3.96215958e-14]\n",
      " [1.52891778e-06 9.77231741e-01 1.37217538e-02 ... 7.63107440e-04\n",
      "  3.88494274e-03 2.40690657e-04]\n",
      " ...\n",
      " [1.03189599e-08 8.52785487e-09 6.06922777e-06 ... 1.59298151e-03\n",
      "  6.93302182e-03 2.43863109e-02]\n",
      " [1.19563779e-07 3.02739807e-07 2.64141505e-07 ... 1.08909340e-07\n",
      "  9.43981577e-03 1.58487865e-07]\n",
      " [9.86100986e-07 2.68607836e-14 1.01027166e-04 ... 7.00712817e-13\n",
      "  4.96086550e-08 4.14138029e-11]]\n"
     ]
    }
   ],
   "source": [
    "pred = model.predict(x_test)\n",
    "print('Prediction: \\n', pred)"
   ]
  },
  {
   "cell_type": "code",
   "execution_count": 14,
   "metadata": {},
   "outputs": [
    {
     "name": "stdout",
     "output_type": "stream",
     "text": [
      "1875/1875 [==============================] - 1s 347us/step - loss: 0.2447 - accuracy: 0.9331\n",
      "Accuracy: \n",
      " 0.933067\n"
     ]
    }
   ],
   "source": [
    "score = model.evaluate(x_train, y_train)\n",
    "print('Accuracy: \\n', round(score[1], 6))"
   ]
  }
 ],
 "metadata": {
  "kernelspec": {
   "display_name": "Python 3",
   "language": "python",
   "name": "python3"
  },
  "language_info": {
   "codemirror_mode": {
    "name": "ipython",
    "version": 3
   },
   "file_extension": ".py",
   "mimetype": "text/x-python",
   "name": "python",
   "nbconvert_exporter": "python",
   "pygments_lexer": "ipython3",
   "version": "3.8.5"
  }
 },
 "nbformat": 4,
 "nbformat_minor": 4
}

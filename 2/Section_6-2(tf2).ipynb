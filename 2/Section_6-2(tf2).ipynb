{
 "cells": [
  {
   "cell_type": "code",
   "execution_count": 1,
   "metadata": {},
   "outputs": [],
   "source": [
    "import tensorflow as tf\n",
    "import numpy as np"
   ]
  },
  {
   "cell_type": "code",
   "execution_count": 2,
   "metadata": {},
   "outputs": [],
   "source": [
    "xy = np.loadtxt('data-04-zoo.csv', delimiter=',', dtype=np.float32)\n",
    "x_data = xy[:, 0:-1]\n",
    "y_data = xy[:, [-1]]"
   ]
  },
  {
   "cell_type": "code",
   "execution_count": 3,
   "metadata": {},
   "outputs": [
    {
     "name": "stdout",
     "output_type": "stream",
     "text": [
      "(101, 16) (101, 1)\n"
     ]
    }
   ],
   "source": [
    "print(x_data.shape, y_data.shape)"
   ]
  },
  {
   "cell_type": "code",
   "execution_count": 4,
   "metadata": {},
   "outputs": [],
   "source": [
    "nb_classes = 7"
   ]
  },
  {
   "cell_type": "code",
   "execution_count": 5,
   "metadata": {},
   "outputs": [],
   "source": [
    "y_onehot = tf.keras.utils.to_categorical(y_data, nb_classes)\n",
    "#print(y_onehot)"
   ]
  },
  {
   "cell_type": "code",
   "execution_count": 6,
   "metadata": {},
   "outputs": [],
   "source": [
    "tf.model = tf.keras.Sequential()\n",
    "tf.model.add(tf.keras.layers.Dense(units=nb_classes,\n",
    "                                  input_dim=16,\n",
    "                                  activation='softmax'))\n",
    "tf.model.compile(loss='categorical_crossentropy', \n",
    "                 optimizer=tf.keras.optimizers.SGD(lr=0.1),\n",
    "                metrics='accuracy')"
   ]
  },
  {
   "cell_type": "code",
   "execution_count": 7,
   "metadata": {},
   "outputs": [
    {
     "name": "stdout",
     "output_type": "stream",
     "text": [
      "Model: \"sequential\"\n",
      "_________________________________________________________________\n",
      "Layer (type)                 Output Shape              Param #   \n",
      "=================================================================\n",
      "dense (Dense)                (None, 7)                 119       \n",
      "=================================================================\n",
      "Total params: 119\n",
      "Trainable params: 119\n",
      "Non-trainable params: 0\n",
      "_________________________________________________________________\n"
     ]
    }
   ],
   "source": [
    "tf.model.summary()"
   ]
  },
  {
   "cell_type": "code",
   "execution_count": 8,
   "metadata": {},
   "outputs": [],
   "source": [
    "history = tf.model.fit(x_data, y_onehot, epochs=1000, verbose=0)"
   ]
  },
  {
   "cell_type": "code",
   "execution_count": 9,
   "metadata": {},
   "outputs": [
    {
     "data": {
      "text/plain": [
       "1.0"
      ]
     },
     "execution_count": 9,
     "metadata": {},
     "output_type": "execute_result"
    }
   ],
   "source": [
    "history.history['accuracy'][-1]"
   ]
  },
  {
   "cell_type": "code",
   "execution_count": 10,
   "metadata": {},
   "outputs": [
    {
     "data": {
      "text/plain": [
       "0.029129628092050552"
      ]
     },
     "execution_count": 10,
     "metadata": {},
     "output_type": "execute_result"
    }
   ],
   "source": [
    "history.history['loss'][-1]"
   ]
  },
  {
   "cell_type": "code",
   "execution_count": 11,
   "metadata": {},
   "outputs": [],
   "source": [
    "test_data = np.array([[0, 0, 1, 0, 0, 1, 1, 1, 1, 0, 0, 1, 0, 1, 0, 0]])\n",
    "# expected prediction == 3 (feathers)"
   ]
  },
  {
   "cell_type": "code",
   "execution_count": 12,
   "metadata": {},
   "outputs": [
    {
     "name": "stdout",
     "output_type": "stream",
     "text": [
      "[[7.7187078e-04 1.1245416e-03 6.0141771e-03 9.8608470e-01 4.3443600e-03\n",
      "  5.2495716e-07 1.6599776e-03]] [3]\n"
     ]
    },
    {
     "name": "stderr",
     "output_type": "stream",
     "text": [
      "/Users/kyh/opt/anaconda3/lib/python3.8/site-packages/tensorflow/python/keras/engine/sequential.py:450: UserWarning: `model.predict_classes()` is deprecated and will be removed after 2021-01-01. Please use instead:* `np.argmax(model.predict(x), axis=-1)`,   if your model does multi-class classification   (e.g. if it uses a `softmax` last-layer activation).* `(model.predict(x) > 0.5).astype(\"int32\")`,   if your model does binary classification   (e.g. if it uses a `sigmoid` last-layer activation).\n",
      "  warnings.warn('`model.predict_classes()` is deprecated and '\n"
     ]
    }
   ],
   "source": [
    "print(tf.model.predict(test_data), tf.model.predict_classes(test_data))"
   ]
  },
  {
   "cell_type": "code",
   "execution_count": 13,
   "metadata": {},
   "outputs": [
    {
     "name": "stdout",
     "output_type": "stream",
     "text": [
      "[True] Prediction: 0, Y: 0\n",
      "[True] Prediction: 0, Y: 0\n",
      "[True] Prediction: 3, Y: 3\n",
      "[True] Prediction: 0, Y: 0\n",
      "[True] Prediction: 0, Y: 0\n",
      "[True] Prediction: 0, Y: 0\n",
      "[True] Prediction: 0, Y: 0\n",
      "[True] Prediction: 3, Y: 3\n",
      "[True] Prediction: 3, Y: 3\n",
      "[True] Prediction: 0, Y: 0\n",
      "[True] Prediction: 0, Y: 0\n",
      "[True] Prediction: 1, Y: 1\n",
      "[True] Prediction: 3, Y: 3\n",
      "[True] Prediction: 6, Y: 6\n",
      "[True] Prediction: 6, Y: 6\n",
      "[True] Prediction: 6, Y: 6\n",
      "[True] Prediction: 1, Y: 1\n",
      "[True] Prediction: 0, Y: 0\n",
      "[True] Prediction: 3, Y: 3\n",
      "[True] Prediction: 0, Y: 0\n",
      "[True] Prediction: 1, Y: 1\n",
      "[True] Prediction: 1, Y: 1\n",
      "[True] Prediction: 0, Y: 0\n",
      "[True] Prediction: 1, Y: 1\n",
      "[True] Prediction: 5, Y: 5\n",
      "[True] Prediction: 4, Y: 4\n",
      "[True] Prediction: 4, Y: 4\n",
      "[True] Prediction: 0, Y: 0\n",
      "[True] Prediction: 0, Y: 0\n",
      "[True] Prediction: 0, Y: 0\n",
      "[True] Prediction: 5, Y: 5\n",
      "[True] Prediction: 0, Y: 0\n",
      "[True] Prediction: 0, Y: 0\n",
      "[True] Prediction: 1, Y: 1\n",
      "[True] Prediction: 3, Y: 3\n",
      "[True] Prediction: 0, Y: 0\n",
      "[True] Prediction: 0, Y: 0\n",
      "[True] Prediction: 1, Y: 1\n",
      "[True] Prediction: 3, Y: 3\n",
      "[True] Prediction: 5, Y: 5\n",
      "[True] Prediction: 5, Y: 5\n",
      "[True] Prediction: 1, Y: 1\n",
      "[True] Prediction: 5, Y: 5\n",
      "[True] Prediction: 1, Y: 1\n",
      "[True] Prediction: 0, Y: 0\n",
      "[True] Prediction: 0, Y: 0\n",
      "[True] Prediction: 6, Y: 6\n",
      "[True] Prediction: 0, Y: 0\n",
      "[True] Prediction: 0, Y: 0\n",
      "[True] Prediction: 0, Y: 0\n",
      "[True] Prediction: 0, Y: 0\n",
      "[True] Prediction: 5, Y: 5\n",
      "[True] Prediction: 4, Y: 4\n",
      "[True] Prediction: 6, Y: 6\n",
      "[True] Prediction: 0, Y: 0\n",
      "[True] Prediction: 0, Y: 0\n",
      "[True] Prediction: 1, Y: 1\n",
      "[True] Prediction: 1, Y: 1\n",
      "[True] Prediction: 1, Y: 1\n",
      "[True] Prediction: 1, Y: 1\n",
      "[True] Prediction: 3, Y: 3\n",
      "[True] Prediction: 3, Y: 3\n",
      "[True] Prediction: 2, Y: 2\n",
      "[True] Prediction: 0, Y: 0\n",
      "[True] Prediction: 0, Y: 0\n",
      "[True] Prediction: 0, Y: 0\n",
      "[True] Prediction: 0, Y: 0\n",
      "[True] Prediction: 0, Y: 0\n",
      "[True] Prediction: 0, Y: 0\n",
      "[True] Prediction: 0, Y: 0\n",
      "[True] Prediction: 0, Y: 0\n",
      "[True] Prediction: 1, Y: 1\n",
      "[True] Prediction: 6, Y: 6\n",
      "[True] Prediction: 3, Y: 3\n",
      "[True] Prediction: 0, Y: 0\n",
      "[True] Prediction: 0, Y: 0\n",
      "[True] Prediction: 2, Y: 2\n",
      "[True] Prediction: 6, Y: 6\n",
      "[True] Prediction: 1, Y: 1\n",
      "[True] Prediction: 1, Y: 1\n",
      "[True] Prediction: 2, Y: 2\n",
      "[True] Prediction: 6, Y: 6\n",
      "[True] Prediction: 3, Y: 3\n",
      "[True] Prediction: 1, Y: 1\n",
      "[True] Prediction: 0, Y: 0\n",
      "[True] Prediction: 6, Y: 6\n",
      "[True] Prediction: 3, Y: 3\n",
      "[True] Prediction: 1, Y: 1\n",
      "[True] Prediction: 5, Y: 5\n",
      "[True] Prediction: 4, Y: 4\n",
      "[True] Prediction: 2, Y: 2\n",
      "[True] Prediction: 2, Y: 2\n",
      "[True] Prediction: 3, Y: 3\n",
      "[True] Prediction: 0, Y: 0\n",
      "[True] Prediction: 0, Y: 0\n",
      "[True] Prediction: 1, Y: 1\n",
      "[True] Prediction: 0, Y: 0\n",
      "[True] Prediction: 5, Y: 5\n",
      "[True] Prediction: 0, Y: 0\n",
      "[True] Prediction: 6, Y: 6\n",
      "[True] Prediction: 1, Y: 1\n"
     ]
    }
   ],
   "source": [
    "pred = tf.model.predict_classes(x_data)\n",
    "for p, y in zip(pred, y_data.flatten()):\n",
    "    print(\"[{}] Prediction: {}, Y: {}\".format(p==int(y), p, int(y)))"
   ]
  }
 ],
 "metadata": {
  "kernelspec": {
   "display_name": "Python 3",
   "language": "python",
   "name": "python3"
  },
  "language_info": {
   "codemirror_mode": {
    "name": "ipython",
    "version": 3
   },
   "file_extension": ".py",
   "mimetype": "text/x-python",
   "name": "python",
   "nbconvert_exporter": "python",
   "pygments_lexer": "ipython3",
   "version": "3.8.5"
  }
 },
 "nbformat": 4,
 "nbformat_minor": 4
}
